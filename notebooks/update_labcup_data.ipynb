{
 "cells": [
  {
   "cell_type": "markdown",
   "id": "b576242f",
   "metadata": {},
   "source": [
    "# Update Data Entries"
   ]
  },
  {
   "cell_type": "code",
   "execution_count": 3,
   "id": "c574050e",
   "metadata": {},
   "outputs": [
    {
     "name": "stdout",
     "output_type": "stream",
     "text": [
      "b'{\\n  \"last_modified\": \"2025-07-30T08:34:05.799169+00:00\",\\n  \"status\": \"success\"\\n}\\n'\n"
     ]
    }
   ],
   "source": [
    "import httpx\n",
    "import os\n",
    "\n",
    "response = httpx.post(\n",
    "    \"http://sce-chem-c01894.chem.ed.ac.uk:5001/save-item\",\n",
    "    json={\"item_id\": \"CH096960\", \"data\": {\"name\": \"New name\", \"type\": \"starting_materials\"}},\n",
    "    follow_redirects=True,\n",
    "    headers={\"DATALAB-API-KEY\": os.environ[\"DATALAB_API_KEY\"]},\n",
    ")\n",
    "\n",
    "print(response.content)"
   ]
  },
  {
   "cell_type": "markdown",
   "id": "ea7d3bfb",
   "metadata": {},
   "source": [
    "Function to update data entries"
   ]
  },
  {
   "cell_type": "code",
   "execution_count": null,
   "id": "6fd4b756",
   "metadata": {},
   "outputs": [],
   "source": [
    "def update_existing_item(item_id: str, item_data: dict, base_url: str):\n",
    "    \"\"\"Update an existing item using direct HTTP request.\"\"\"\n",
    "    import httpx\n",
    "    import os\n",
    "    \n",
    "    try:\n",
    "        response = httpx.post(\n",
    "            f\"{base_url}/save-item\",\n",
    "            json={\"item_id\": item_id, \"data\": item_data},\n",
    "            follow_redirects=True,\n",
    "            headers={\"DATALAB-API-KEY\": os.environ[\"DATALAB_API_KEY\"]},\n",
    "            timeout=30.0\n",
    "        )\n",
    "        response.raise_for_status()\n",
    "        return True\n",
    "    except Exception as e:\n",
    "        print(f\"Failed to update item {item_id}: {e}\")\n",
    "        return False"
   ]
  },
  {
   "cell_type": "markdown",
   "id": "54522ba6",
   "metadata": {},
   "source": [
    "The below doesn't work."
   ]
  },
  {
   "cell_type": "code",
   "execution_count": 2,
   "id": "08ded068",
   "metadata": {},
   "outputs": [
    {
     "name": "stdout",
     "output_type": "stream",
     "text": [
      "Current item: {'CAS': None, 'GHS_codes': None, 'barcode': 'CH096960', 'blocks_obj': {}, 'chemform': None, 'chemical_purity': None, 'collections': [{'collection_id': 'labcup-import-29-07-2025', 'immutable_id': '6888951add2b6330e5d02421'}], 'comment': None, 'creator_ids': [], 'creators': [], 'date': '2025-07-29T09:32:17.003000+00:00', 'date_opened': None, 'description': None, 'display_order': [], 'file_ObjectIds': [], 'files': [], 'full_percent': None, 'immutable_id': '68889521dd2b6330e5d0243c', 'item_id': 'CH096960', 'last_modified': '2025-07-29T14:21:37.731000+00:00', 'location': None, 'molar_mass': None, 'name': 'TRIS(HYDROXYMETHYL)AMINOMETHANE', 'refcode': 'mydatalab:PSDAPR', 'relationships': [{'description': 'Is a member of', 'immutable_id': '6888951add2b6330e5d02421', 'item_id': None, 'refcode': None, 'relation': None, 'type': 'collections'}], 'revision': 1, 'revisions': None, 'size': None, 'size_unit': None, 'smiles_representation': None, 'supplier': 'Thermo Fisher Scientific', 'synthesis_constituents': [], 'synthesis_description': None, 'type': 'starting_materials'}\n",
      "Update response: {'last_modified': '2025-07-30T08:34:00.085088+00:00', 'status': 'success'}\n",
      "Updated item: {'CAS': None, 'GHS_codes': None, 'barcode': 'CH096960', 'blocks_obj': {}, 'chemform': None, 'chemical_purity': None, 'collections': [], 'comment': None, 'creator_ids': [], 'creators': [], 'date': '2025-07-29T09:32:17.003000+00:00', 'date_opened': None, 'description': None, 'display_order': [], 'file_ObjectIds': [], 'files': [], 'full_percent': None, 'immutable_id': '68889521dd2b6330e5d0243c', 'item_id': 'CH096960', 'last_modified': '2025-07-30T08:34:00.085000+00:00', 'location': None, 'molar_mass': None, 'name': 'TRIS(HYDROXYMETHYL)AMINOMETHANE', 'refcode': 'mydatalab:PSDAPR', 'relationships': [], 'revision': 1, 'revisions': None, 'size': None, 'size_unit': None, 'smiles_representation': None, 'supplier': 'Thermo Fisher Scientific', 'synthesis_constituents': [], 'synthesis_description': None, 'type': 'starting_materials'}\n"
     ]
    }
   ],
   "source": [
    "from datalab_api import DatalabClient\n",
    "import os\n",
    "\n",
    "#  Set your API key here or in your environment variables\n",
    "os.environ['DATALAB_API_KEY'] = 'tZhRZwqWhhwEjyVSVJeWitnfEPKXKArg'\n",
    "\n",
    "current_item_id = \"CH096960\"\n",
    "\n",
    "with DatalabClient(\"http://sce-chem-c01894.chem.ed.ac.uk:5001\") as client:\n",
    "    # List all items of a given type\n",
    "    # items = client.get_items()\n",
    "    \n",
    "    # Get the current item\n",
    "    item = client.get_item(item_id=current_item_id)\n",
    "    print(\"Current item:\", item)\n",
    "    \n",
    "    # Update specific fields, these must be matching the API's expected field names\n",
    "    updated_data = {'data':{        \n",
    "        \"name\": \"New_Name\",\n",
    "        # \"supplier\": \"New_Supplier\",\n",
    "        \"chemform\": \"H2O\", # Chemical Formula\n",
    "        # Add any other fields you want to update\n",
    "        'GHS_codes':'H301'\n",
    "        },\n",
    "        # This must be specified, or an error will occur\n",
    "        \"type\": \"starting_materials\"\n",
    "    }\n",
    "    \n",
    "    # Update the item\n",
    "    response = client.update_item(item_id=current_item_id, item_data=updated_data)\n",
    "    print(\"Update response:\", response)\n",
    "    \n",
    "    # print the updated item to verify changes\n",
    "    updated_item = client.get_item(item_id=current_item_id)\n",
    "    print(\"Updated item:\", updated_item)"
   ]
  }
 ],
 "metadata": {
  "kernelspec": {
   "display_name": "datalab-server",
   "language": "python",
   "name": "python3"
  },
  "language_info": {
   "codemirror_mode": {
    "name": "ipython",
    "version": 3
   },
   "file_extension": ".py",
   "mimetype": "text/x-python",
   "name": "python",
   "nbconvert_exporter": "python",
   "pygments_lexer": "ipython3",
   "version": "3.11.13"
  }
 },
 "nbformat": 4,
 "nbformat_minor": 5
}
