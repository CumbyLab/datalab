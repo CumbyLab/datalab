{
 "cells": [
  {
   "cell_type": "markdown",
   "id": "b722d5a2",
   "metadata": {},
   "source": [
    "# Backups & Restoring Backups\n",
    "\n",
    "== See `tasks.py` for more technical details. == \n",
    "\n",
    "## Native Snapshot Backups**\n",
    "- **Method**: Built-in Datalab backup system using `invoke admin.create-backup`\n",
    "- **Includes**: MongoDB dump, file storage, configuration\n",
    "- **Format**: Compressed TAR archives (.tar.gz)\n",
    "- **Scheduling**: Configurable strategies (daily, weekly, quarterly)\n",
    "- **Command**: `docker compose exec api uv run invoke admin.create-backup --strategy-name daily-snapshots`\n"
   ]
  },
  {
   "cell_type": "markdown",
   "id": "dfb4df8f",
   "metadata": {},
   "source": [
    "## Manual Backup Methods\n",
    "\n",
    "### 📋 Native Datalab Backup\n",
    "   \n",
    "   📝 Description: Using Datalab's built-in backup system via Docker\n",
    "\n",
    "   💻 Command: \n",
    "   \n",
    "   ```bash\n",
    "   docker compose exec api uv run invoke admin.create-backup --strategy-name daily-snapshots\n",
    "```\n",
    "\n",
    "   🎯 Use Case: Production deployments with configured backup strategies\n",
    "   \n",
    "   ✅ Requirements: Docker Compose, Datalab container running\n",
    "\n",
    "### 📋 Manual Docker Backup\n",
    "   \n",
    "   📝 Description: Direct mongodump from database container\n",
    "   \n",
    "   💻 Command: \n",
    "   ```bash\n",
    "   docker exec datalab-database-1 mongodump --uri mongodb://localhost:27017/datalabvue --out /tmp/backup\n",
    "   ```\n",
    "   \n",
    "   🎯 Use Case: One-off backups or custom backup scripts\n",
    "   \n",
    "   ✅ Requirements: Database container running, mongodump in container\n",
    "\n",
    "## Backup Restoration Workflow\n",
    "\n",
    "### 📋 Native Datalab Restore\n",
    "\n",
    "   💻 Command: \n",
    "   ```bash\n",
    "   docker compose exec api uv run invoke admin.restore-backup --snapshot-path /tmp/backup.tar.gz\n",
    "```\n",
    "\n",
    "   🎯 Use Case: Full system restoration using Datalab's built-in tools\n",
    "\n",
    "### 📋 Manual MongoDB Restore\n",
    "\n",
    "   💻 Command: \n",
    "   ```bash\n",
    "   mongorestore --uri mongodb://localhost:27017/datalabvue --drop /path/to/mongodb/backup\n",
    "```\n",
    "\n",
    "   🎯 Use Case: Database-only restoration"
   ]
  }
 ],
 "metadata": {
  "language_info": {
   "name": "python"
  }
 },
 "nbformat": 4,
 "nbformat_minor": 5
}
